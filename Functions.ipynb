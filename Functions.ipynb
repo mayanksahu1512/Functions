{
  "nbformat": 4,
  "nbformat_minor": 0,
  "metadata": {
    "colab": {
      "provenance": []
    },
    "kernelspec": {
      "name": "python3",
      "display_name": "Python 3"
    },
    "language_info": {
      "name": "python"
    }
  },
  "cells": [
    {
      "cell_type": "markdown",
      "source": [
        "Q.1 - What is the difference between a function and a method in Python?\n",
        "  - In Python, both functions and methods are blocks of reusable code designed to perform specific tasks, but their key distinction lies in their relationship to classes and objects.\n",
        "Function:\n",
        "A function is a standalone block of code that is defined independently, not associated with any particular class or object.\n",
        "Functions can be called directly by their name, without needing an instance of a class.\n",
        "They typically operate on data passed to them as arguments and return a value or perform an action.\n",
        "Example:\n",
        "Python\n",
        "\n",
        "    def greet(name):\n",
        "        return f\"Hello, {name}!\"\n",
        "\n",
        "    print(greet(\"Alice\"))\n",
        "Method:\n",
        "A method is a function that is defined within a class and is associated with an object of that class.\n",
        "Methods are called on an instance of a class (an object) using the dot notation (e.g., object.method()).\n",
        "They can access and modify the data (attributes) of the object they belong to, often taking self as their first parameter to refer to the instance itself.\n",
        "Example:\n",
        "Python\n",
        "\n",
        "    class Dog:\n",
        "        def __init__(self, name):\n",
        "            self.name = name\n",
        "\n",
        "        def bark(self):\n",
        "            return f\"{self.name} says Woof!\"\n",
        "\n",
        "    my_dog = Dog(\"Buddy\")\n",
        "    print(my_dog.bark())\n",
        "In summary:\n",
        "Functions: are independent and can be called anywhere.\n",
        "Methods: are tied to a class and its objects, and they operate on the object's data.\n",
        "Essentially, all methods are functions, but not all functions are methods."
      ],
      "metadata": {
        "id": "L6dYQtCh1eXU"
      }
    },
    {
      "cell_type": "markdown",
      "source": [
        "Q.2 - Explain the concept of function arguments and parameters in Python.\n",
        "  - Parameters vs Arguments in Python\n",
        "Parameters are variables listed in a function definition.\n",
        "\n",
        "python\n",
        "Copy\n",
        "Edit\n",
        "def greet(name):  # 'name' is a parameter\n",
        "    print(\"Hello\", name)\n",
        "Arguments are the actual values passed to a function call.\n",
        "\n",
        "python\n",
        "Copy\n",
        "Edit\n",
        "greet(\"Alice\")  # 'Alice' is an argument\n",
        "🔹 Types of Arguments\n",
        "Positional – Based on order\n",
        "add(2, 3)\n",
        "\n",
        "Keyword – Specify by name\n",
        "add(a=2, b=3)\n",
        "\n",
        "Default – Has a default value\n",
        "\n",
        "python\n",
        "Copy\n",
        "Edit\n",
        "def greet(name=\"Guest\"):\n",
        "    print(\"Hello\", name)\n",
        "Variable-length – Accept many arguments\n",
        "\n",
        "python\n",
        "Copy\n",
        "Edit\n",
        "def total(*nums):\n",
        "    print(sum(nums))"
      ],
      "metadata": {
        "id": "kQLq_CSL1ven"
      }
    },
    {
      "cell_type": "markdown",
      "source": [
        "Q.3 -  What are the different ways to define and call a function in Python?\n",
        "  - Ways to Define and Call Functions in Python\n",
        "Standard Function\n",
        "\n",
        "python\n",
        "Copy\n",
        "Edit\n",
        "def greet(name):\n",
        "    print(\"Hello\", name)\n",
        "\n",
        "greet(\"Alice\")\n",
        "With Default Argument\n",
        "\n",
        "python\n",
        "Copy\n",
        "Edit\n",
        "def greet(name=\"Guest\"):\n",
        "    print(\"Hello\", name)\n",
        "\n",
        "greet()       # Hello Guest\n",
        "With *args (many values)\n",
        "\n",
        "python\n",
        "Copy\n",
        "Edit\n",
        "def add(*nums):\n",
        "    print(sum(nums))\n",
        "\n",
        "add(1, 2, 3)\n",
        "With **kwargs (many key-value pairs)\n",
        "\n",
        "python\n",
        "Copy\n",
        "Edit\n",
        "def info(**data):\n",
        "    print(data)\n",
        "\n",
        "info(name=\"John\", age=30)\n",
        "Lambda Function\n",
        "\n",
        "python\n",
        "Copy\n",
        "Edit\n",
        "square = lambda x: x * x\n",
        "print(square(4))\n",
        "Function as Argument\n",
        "\n",
        "python\n",
        "Copy\n",
        "Edit\n",
        "def run(func):\n",
        "    func()\n",
        "\n",
        "run(lambda: print(\"Hi!\"))"
      ],
      "metadata": {
        "id": "jgfkl3Rw2FMn"
      }
    },
    {
      "cell_type": "markdown",
      "source": [
        "Q.4 - What is the purpose of the `return` statement in a Python function?\n",
        "  - Purpose of the return Statement in Python\n",
        "The return statement is used to:\n",
        "\n",
        "Send a value back to the caller of the function.\n",
        "\n",
        "End the function's execution.\n",
        "\n",
        "🔸 Example:\n",
        "python\n",
        "Copy\n",
        "Edit\n",
        "def add(a, b):\n",
        "    return a + b\n",
        "\n",
        "result = add(3, 4)\n",
        "print(result)  # Output: 7\n",
        "🔸 Key Points:\n",
        "Without return, the function returns None by default.\n",
        "\n",
        "You can return any data type (number, list, string, etc.).\n",
        "\n",
        "You can return multiple values using a comma:\n",
        "\n",
        "python\n",
        "Copy\n",
        "Edit\n",
        "return x, y  # Returns a tuple\n",
        "So, return gives the result back from the function."
      ],
      "metadata": {
        "id": "CpR7LHxA2cli"
      }
    },
    {
      "cell_type": "markdown",
      "source": [
        "Q.5 -  What are iterators in Python and how do they differ from iterables?\n",
        "  - ### 🔹 Iterables vs Iterators in Python\n",
        "\n",
        "#### ✅ **Iterable**\n",
        "\n",
        "An **iterable** is any object that can be looped over (like in a `for` loop).\n",
        "Examples: `list`, `tuple`, `string`, `set`, `dict`, etc.\n",
        "\n",
        "```python\n",
        "nums = [1, 2, 3]  # This is an iterable\n",
        "```\n",
        "\n",
        "#### ✅ **Iterator**\n",
        "\n",
        "An **iterator** is an object that keeps state and **produces the next value** when you call `next()` on it.\n",
        "\n",
        "You can get an iterator from an iterable using `iter()`:\n",
        "\n",
        "```python\n",
        "nums = [1, 2, 3]\n",
        "it = iter(nums)      # Creates an iterator\n",
        "print(next(it))      # Output: 1\n",
        "print(next(it))      # Output: 2\n",
        "```\n",
        "\n",
        "---\n",
        "\n",
        "### 🔸 Difference:\n",
        "\n",
        "| Feature    | Iterable                  | Iterator                           |\n",
        "| ---------- | ------------------------- | ---------------------------------- |\n",
        "| Definition | Can be looped over        | Gives next item using `next()`     |\n",
        "| Method     | Uses `__iter__()`         | Uses `__next__()` and `__iter__()` |\n",
        "| Examples   | list, string, tuple, etc. | Object from `iter(iterable)`       |\n",
        "| Reusable   | Yes                       | No (exhausts once used)            |\n",
        "\n",
        "---\n",
        "\n",
        "**In short:**\n",
        "\n",
        "* **Iterable** = can be looped over\n",
        "* **Iterator** = knows how to get the next item\n",
        "\n",
        "Let me know if you want a visual or code demo for this!\n"
      ],
      "metadata": {
        "id": "pjMzUUBB2oI_"
      }
    },
    {
      "cell_type": "markdown",
      "source": [
        "Q.6 - Explain the concept of generators in Python and how they are defined.\n",
        "  - ### 🔹 What is a Generator?\n",
        "\n",
        "A **generator** is a special function that uses `yield` to produce values **one at a time**, saving memory.\n",
        "\n",
        "---\n",
        "\n",
        "### 🔹 How to Define\n",
        "\n",
        "```python\n",
        "def count_up_to(n):\n",
        "    count = 1\n",
        "    while count <= n:\n",
        "        yield count\n",
        "        count += 1\n",
        "```\n",
        "\n",
        "---\n",
        "\n",
        "### 🔹 How to Use\n",
        "\n",
        "```python\n",
        "gen = count_up_to(3)\n",
        "print(next(gen))  # 1\n",
        "print(next(gen))  # 2\n",
        "```\n",
        "\n",
        "---\n",
        "\n",
        "### 🔹 Key Points\n",
        "\n",
        "* Uses `yield` instead of `return`\n",
        "* Memory efficient\n",
        "* Returns an iterator\n"
      ],
      "metadata": {
        "id": "OfmAxVIE22WP"
      }
    },
    {
      "cell_type": "markdown",
      "source": [
        "Q.7 - What are the advantages of using generators over regular functions?\n",
        "  - Advantages of Generators Over Regular Functions\n",
        "Memory Efficient\n",
        "\n",
        "Generators yield one value at a time — no need to store the entire result in memory.\n",
        "\n",
        "Lazy Evaluation\n",
        "\n",
        "Values are generated only when needed, not all at once.\n",
        "\n",
        "Faster for Large Data\n",
        "\n",
        "Great for reading large files or streaming data.\n",
        "\n",
        "Simpler Code\n",
        "\n",
        "Avoids manual state tracking using loops and temporary variables.\n",
        "\n",
        "🔸 Example:\n",
        "python\n",
        "Copy\n",
        "Edit\n",
        "def gen_nums():\n",
        "    for i in range(1, 1000000):\n",
        "        yield i\n",
        "✅ Efficient\n",
        "❌ A regular function with return would build and return a huge list, using more memory."
      ],
      "metadata": {
        "id": "ZXV7Xxp83MJ_"
      }
    },
    {
      "cell_type": "markdown",
      "source": [
        "Q.8 - What is a lambda function in Python and when is it typically used?\n",
        "  - A lambda function is a small anonymous function defined with the lambda keyword.\n",
        "\n",
        "🔸 Syntax:\n",
        "python\n",
        "Copy\n",
        "Edit\n",
        "lambda arguments: expression\n",
        "🔸 Example:\n",
        "python\n",
        "Copy\n",
        "Edit\n",
        "square = lambda x: x * x\n",
        "print(square(5))  # Output: 25\n",
        "🔹 When to Use Lambda Functions:\n",
        "For short, simple functions\n",
        "\n",
        "When you need a function temporarily (often used with map(), filter(), sorted(), etc.)\n",
        "\n",
        "🔸 Example with filter():\n",
        "python\n",
        "Copy\n",
        "Edit\n",
        "nums = [1, 2, 3, 4]\n",
        "even = list(filter(lambda x: x % 2 == 0, nums))\n",
        "print(even)  # Output: [2, 4]\n",
        "✅ Quick & inline\n",
        "❌ Not suitable for complex logic"
      ],
      "metadata": {
        "id": "7Hhitzqy3WvC"
      }
    },
    {
      "cell_type": "markdown",
      "source": [
        "Q.9 - Explain the purpose and usage of the `map()` function in Python.\n",
        "  - 🔹 Purpose of map() in Python\n",
        "The map() function is used to apply a function to each item in an iterable (like a list) and returns a map object (an iterator).\n",
        "\n",
        "🔸 Syntax:\n",
        "python\n",
        "Copy\n",
        "Edit\n",
        "map(function, iterable)\n",
        "🔸 Example:\n",
        "python\n",
        "Copy\n",
        "Edit\n",
        "nums = [1, 2, 3, 4]\n",
        "squares = map(lambda x: x * x, nums)\n",
        "print(list(squares))  # Output: [1, 4, 9, 16]\n",
        "🔹 Key Points:\n",
        "Returns an iterator (use list() to see the results)\n",
        "\n",
        "Doesn't modify the original list\n",
        "\n",
        "Useful for clean, concise transformations\n",
        "\n",
        "✅ Good for applying the same function to many values\n",
        "❌ Not ideal for complex logic — use loops or list comprehensions instead"
      ],
      "metadata": {
        "id": "0LqRk3ZV3hc3"
      }
    },
    {
      "cell_type": "markdown",
      "source": [
        "Q.10 - What is the difference between `map()`, `reduce()`, and `filter()` functions in Python?\n",
        "  - 🔹 1. map()\n",
        "Purpose: Applies a function to each item in an iterable.\n",
        "\n",
        "Output: New iterable with transformed items.\n",
        "\n",
        "Example:\n",
        "\n",
        "python\n",
        "Copy\n",
        "Edit\n",
        "nums = [1, 2, 3]\n",
        "squares = list(map(lambda x: x*x, nums))\n",
        "# [1, 4, 9]\n",
        "🔹 2. filter()\n",
        "Purpose: Filters items based on a condition (returns only items where function returns True).\n",
        "\n",
        "Output: Filtered iterable.\n",
        "\n",
        "Example:\n",
        "\n",
        "python\n",
        "Copy\n",
        "Edit\n",
        "nums = [1, 2, 3, 4]\n",
        "evens = list(filter(lambda x: x % 2 == 0, nums))\n",
        "# [2, 4]\n",
        "🔹 3. reduce()\n",
        "Purpose: Reduces the iterable to a single value by applying a function cumulatively.\n",
        "\n",
        "Output: Single value.\n",
        "\n",
        "Must import from functools:\n",
        "\n",
        "python\n",
        "Copy\n",
        "Edit\n",
        "from functools import reduce\n",
        "nums = [1, 2, 3, 4]\n",
        "total = reduce(lambda x, y: x + y, nums)\n",
        "# 10\n",
        "🔸 Summary Table:\n",
        "Function\tWhat it Does\tReturns\n",
        "map()\tTransforms each item\tIterable\n",
        "filter()\tKeeps items that match a test\tIterable\n",
        "reduce()\tCombines all items into one\tSingle value"
      ],
      "metadata": {
        "id": "-qsi8Yd03t61"
      }
    },
    {
      "cell_type": "markdown",
      "source": [
        "Q.11 - Using pen & Paper write the internal mechanism for sum operation using  reduce function on this given list:[47,11,42,13];\n",
        "  - /content/Image.png"
      ],
      "metadata": {
        "id": "SKcUol8r7hgk"
      }
    },
    {
      "cell_type": "markdown",
      "source": [
        "**PRACTICAL QUESTIONS**"
      ],
      "metadata": {
        "id": "TCUyG_Kw7wEl"
      }
    },
    {
      "cell_type": "code",
      "source": [
        "#Q.1 Write a Python function that takes a list of numbers as input and returns the sum of all even numbers in the list.\n",
        "def sum_even_numbers(numbers):\n",
        "    even_sum = 0\n",
        "    for num in numbers:\n",
        "        if num % 2 == 0:\n",
        "            even_sum += num\n",
        "    return even_sum\n"
      ],
      "metadata": {
        "id": "G6vhelCt71Sj"
      },
      "execution_count": 5,
      "outputs": []
    },
    {
      "cell_type": "code",
      "source": [
        "#Q.2 - Create a Python function that accepts a string and returns the reverse of that string\n",
        "print(reverse_string(\"hello\"))  # Output: \"olleh\"\n"
      ],
      "metadata": {
        "colab": {
          "base_uri": "https://localhost:8080/"
        },
        "id": "NJzsqr6Y8RCZ",
        "outputId": "336978a0-137b-497a-ad82-397c0f795640"
      },
      "execution_count": 7,
      "outputs": [
        {
          "output_type": "stream",
          "name": "stdout",
          "text": [
            "olleh\n"
          ]
        }
      ]
    },
    {
      "cell_type": "code",
      "source": [
        "#Q.3 -  Implement a Python function that takes a list of integers and returns a new list containing the squares of each number.\n",
        "def get_squares(numbers):\n",
        "    squares = []\n",
        "    for num in numbers:\n",
        "        squares.append(num ** 2)\n",
        "    return squares"
      ],
      "metadata": {
        "id": "IPTFu7zS8quf"
      },
      "execution_count": 12,
      "outputs": []
    },
    {
      "cell_type": "code",
      "source": [
        "nums = [1, 2, 3, 4, 5]\n",
        "print(get_squares(nums))  # Output: [1, 4, 9, 16, 25]"
      ],
      "metadata": {
        "colab": {
          "base_uri": "https://localhost:8080/"
        },
        "id": "PjKLio6Z8xzd",
        "outputId": "9cfdeb7f-8160-4053-ef6f-24e6571a0acf"
      },
      "execution_count": 13,
      "outputs": [
        {
          "output_type": "stream",
          "name": "stdout",
          "text": [
            "[1, 4, 9, 16, 25]\n"
          ]
        }
      ]
    },
    {
      "cell_type": "code",
      "source": [
        "#Q.4 - Write a Python function that checks if a given number is prime or not from 1 to 200.\n",
        "def is_prime(number):\n",
        "    if number <= 1:\n",
        "        return False\n",
        "    if number <= 3:\n",
        "        return True\n",
        "    if number % 2 == 0 or number % 3 == 0:\n",
        "        return False\n"
      ],
      "metadata": {
        "id": "GQcEussy9QJc"
      },
      "execution_count": 14,
      "outputs": []
    },
    {
      "cell_type": "code",
      "source": [
        "for num in range(1, 201):\n",
        "    if is_prime(num):\n",
        "        print(num, \"is a prime number\")\n"
      ],
      "metadata": {
        "colab": {
          "base_uri": "https://localhost:8080/"
        },
        "id": "x7wU5rzm9XRn",
        "outputId": "26636d14-fddc-42ac-cb78-590aa79d09e9"
      },
      "execution_count": 15,
      "outputs": [
        {
          "output_type": "stream",
          "name": "stdout",
          "text": [
            "2 is a prime number\n",
            "3 is a prime number\n"
          ]
        }
      ]
    },
    {
      "cell_type": "code",
      "source": [
        "#Q.5 - Create an iterator class in Python that generates the Fibonacci sequence up to a specified number of terms.\n",
        "class FibonacciIterator:\n",
        "    def __init__(self, max_terms):\n",
        "        self.max_terms = max_terms\n",
        "        self.count = 0\n",
        "        self.a, self.b = 0, 1\n",
        "\n",
        "    def __iter__(self):\n",
        "        return self\n",
        "\n",
        "    def __next__(self):\n",
        "        if self.count >= self.max_terms:\n",
        "            raise StopIteration\n",
        "        if self.count == 0:\n",
        "            self.count += 1\n",
        "            return 0\n",
        "        elif self.count == 1:\n",
        "            self.count += 1\n",
        "            return 1\n",
        "        else:\n",
        "            self.a, self.b = self.b, self.a + self.b\n",
        "            self.count += 1\n",
        "            return self.a\n"
      ],
      "metadata": {
        "id": "dF2QZ39M9gHi"
      },
      "execution_count": 18,
      "outputs": []
    },
    {
      "cell_type": "code",
      "source": [
        "fib = FibonacciIterator(10)\n",
        "\n",
        "for num in fib:\n",
        "    print(num, end=' ')\n"
      ],
      "metadata": {
        "colab": {
          "base_uri": "https://localhost:8080/"
        },
        "id": "LzcCW6sr95yy",
        "outputId": "0e7787c3-c82d-471a-f614-d4e6eef97b01"
      },
      "execution_count": 19,
      "outputs": [
        {
          "output_type": "stream",
          "name": "stdout",
          "text": [
            "0 1 1 1 2 3 5 8 13 21 "
          ]
        }
      ]
    },
    {
      "cell_type": "code",
      "source": [
        "#Q.6 - Write a generator function in Python that yields the powers of 2 up to a given exponent.\n",
        "def powers_of_two(max_exponent):\n",
        "    for i in range(max_exponent + 1):\n",
        "        yield 2 ** i"
      ],
      "metadata": {
        "id": "s9TYaRwK98_w"
      },
      "execution_count": 23,
      "outputs": []
    },
    {
      "cell_type": "code",
      "source": [
        "for power in powers_of_two(5):\n",
        "    print(power)"
      ],
      "metadata": {
        "colab": {
          "base_uri": "https://localhost:8080/"
        },
        "id": "LYOhIStf-IAU",
        "outputId": "ef8a2ebf-0ccb-4efe-aea9-b987f1d0240e"
      },
      "execution_count": 24,
      "outputs": [
        {
          "output_type": "stream",
          "name": "stdout",
          "text": [
            "1\n",
            "2\n",
            "4\n",
            "8\n",
            "16\n",
            "32\n"
          ]
        }
      ]
    },
    {
      "cell_type": "code",
      "source": [
        "#Q.7 - Implement a generator function that reads a file line by line and yields each line as a string.\n",
        "def read_lines(file_path):\n",
        "    with open(file_path, 'r') as file:\n",
        "        for line in file:\n",
        "            yield line.strip()  # Removes leading/trailing whitespace and newline"
      ],
      "metadata": {
        "id": "J7tqD6xJ-XAR"
      },
      "execution_count": 36,
      "outputs": []
    },
    {
      "cell_type": "code",
      "source": [
        "#Q.8 - Use a lambda function in Python to sort a list of tuples based on the second element of each tuple.\n",
        "data = [(1, 3), (4, 1), (2, 5), (3, 2)]\n",
        "\n",
        "# Sort by second element\n",
        "sorted_data = sorted(data, key=lambda x: x[1])\n",
        "\n",
        "print(sorted_data)"
      ],
      "metadata": {
        "colab": {
          "base_uri": "https://localhost:8080/"
        },
        "id": "fczyI5cE_UMc",
        "outputId": "306c70bb-2b3a-4185-99b7-f9ee5efa4e02"
      },
      "execution_count": 37,
      "outputs": [
        {
          "output_type": "stream",
          "name": "stdout",
          "text": [
            "[(4, 1), (3, 2), (1, 3), (2, 5)]\n"
          ]
        }
      ]
    },
    {
      "cell_type": "code",
      "source": [
        "#Q.9 - Write a Python program that uses `map()` to convert a list of temperatures from Celsius to Fahrenheit.\n",
        "# List of temperatures in Celsius\n",
        "celsius = [0, 20, 30, 37, 100]\n",
        "\n",
        "# Convert to Fahrenheit using map() and lambda\n",
        "fahrenheit = list(map(lambda c: (c * 9/5) + 32, celsius))\n",
        "\n",
        "print(fahrenheit)\n"
      ],
      "metadata": {
        "colab": {
          "base_uri": "https://localhost:8080/"
        },
        "id": "36EpNkxN_fmd",
        "outputId": "fe51a55e-9cf6-45e5-a63c-8a3b770cfc86"
      },
      "execution_count": 38,
      "outputs": [
        {
          "output_type": "stream",
          "name": "stdout",
          "text": [
            "[32.0, 68.0, 86.0, 98.6, 212.0]\n"
          ]
        }
      ]
    },
    {
      "cell_type": "code",
      "source": [
        "#Q.10 - Create a Python program that uses `filter()` to remove all the vowels from a given string.\n",
        "def remove_vowels(text):\n",
        "    vowels = 'aeiouAEIOU'\n",
        "    return ''.join(filter(lambda char: char not in vowels, text))\n",
        "\n",
        "# Example usage\n",
        "input_str = \"Hello World\"\n",
        "result = remove_vowels(input_str)\n",
        "print(result)\n"
      ],
      "metadata": {
        "colab": {
          "base_uri": "https://localhost:8080/"
        },
        "id": "722aPsC5_qde",
        "outputId": "ea066623-8b81-4871-effb-b448b32b059f"
      },
      "execution_count": 39,
      "outputs": [
        {
          "output_type": "stream",
          "name": "stdout",
          "text": [
            "Hll Wrld\n"
          ]
        }
      ]
    },
    {
      "cell_type": "markdown",
      "source": [
        "Q.11 -  Imagine an accounting routine used in a book shop. It works on a list with sublists, which look like this:\n",
        " Write a Python program, which returns a list with 2-tuples. Each tuple consists of the order number and the\n",
        "product of the price per item and the quantity. The product should be increased by 10,- € if the value of the\n",
        "order is smaller than 100,00 €.\n",
        " Write a Python program using lambda and map"
      ],
      "metadata": {
        "id": "-R-nrtCQAvl1"
      }
    },
    {
      "cell_type": "code",
      "source": [
        "\n",
        "\n",
        "orders = [\n",
        "    [34587, \"Learning Python, Mark Lutz\", 4, 40.95],\n",
        "    [98762, \"Programming Python, Mark Lutz\", 5, 56.80],\n",
        "    [77226, \"Head First Python, Paul Barry\", 3, 32.95],\n",
        "    [88112, \"Einführung in Python3, Bernd Klein\", 3, 24.99]\n",
        "]\n",
        "\n",
        "# Function using lambda and map\n",
        "result = list(map(lambda order: (\n",
        "    order[0],\n",
        "    order[2] * order[3] + 10 if order[2] * order[3] < 100 else order[2] * order[3]\n",
        "), orders))\n",
        "\n",
        "print(result)\n"
      ],
      "metadata": {
        "colab": {
          "base_uri": "https://localhost:8080/"
        },
        "id": "aApJ8bdi_zEa",
        "outputId": "3c44e8c1-2979-4abc-9b8a-2c1f4e3e7ffe"
      },
      "execution_count": 41,
      "outputs": [
        {
          "output_type": "stream",
          "name": "stdout",
          "text": [
            "[(34587, 163.8), (98762, 284.0), (77226, 108.85000000000001), (88112, 84.97)]\n"
          ]
        }
      ]
    }
  ]
}